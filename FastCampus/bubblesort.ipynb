{
 "nbformat": 4,
 "nbformat_minor": 2,
 "metadata": {
  "language_info": {
   "name": "python",
   "codemirror_mode": {
    "name": "ipython",
    "version": 3
   },
   "version": "3.7.7-final"
  },
  "orig_nbformat": 2,
  "file_extension": ".py",
  "mimetype": "text/x-python",
  "name": "python",
  "npconvert_exporter": "python",
  "pygments_lexer": "ipython3",
  "version": 3,
  "kernelspec": {
   "name": "python37764bit949a84cbd3cb4dcd905aac9ce4c26dfa",
   "display_name": "Python 3.7.7 64-bit"
  }
 },
 "cells": [
  {
   "cell_type": "markdown",
   "metadata": {},
   "source": [
    "# 버블정렬\n"
   ]
  },
  {
   "cell_type": "code",
   "execution_count": 4,
   "metadata": {},
   "outputs": [],
   "source": [
    "def bubblesort(data):\n",
    "    for index in range(len(data)-1):\n",
    "        swap = False\n",
    "        for index2 in range(len(data)-index -1):\n",
    "            if data[index2] > data[index2+1]:\n",
    "                data[index2], data[index2+1] = data[index2+1],data[index2]\n",
    "                swap = True\n",
    "        \n",
    "        if swap == False:\n",
    "            break\n",
    "    \n",
    "    return data\n",
    "    "
   ]
  },
  {
   "cell_type": "code",
   "execution_count": 5,
   "metadata": {},
   "outputs": [
    {
     "output_type": "execute_result",
     "data": {
      "text/plain": "[0, 2, 12, 14, 15, 19, 24, 27, 28, 34, 35, 46, 49, 53, 58, 63, 76, 77, 81, 84]"
     },
     "metadata": {},
     "execution_count": 5
    }
   ],
   "source": [
    "import random\n",
    "data_list = random.sample(range(100), 20)\n",
    "bubblesort(data_list)"
   ]
  },
  {
   "cell_type": "markdown",
   "metadata": {},
   "source": [
    "## 시간 복잡도 \n",
    "범위가 data의 길이인 n에 해당하며,  반복문이 for , for 두번 사용되어서 \n",
    "n의 제곱의 반영되어 \n",
    "O(n의 제곱) 이 되겠다. "
   ]
  },
  {
   "cell_type": "code",
   "execution_count": null,
   "metadata": {},
   "outputs": [],
   "source": []
  }
 ]
}