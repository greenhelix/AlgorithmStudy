{
 "nbformat": 4,
 "nbformat_minor": 2,
 "metadata": {
  "language_info": {
   "name": "python",
   "codemirror_mode": {
    "name": "ipython",
    "version": 3
   },
   "version": "3.7.7-final"
  },
  "orig_nbformat": 2,
  "file_extension": ".py",
  "mimetype": "text/x-python",
  "name": "python",
  "npconvert_exporter": "python",
  "pygments_lexer": "ipython3",
  "version": 3,
  "kernelspec": {
   "name": "python37764bit91ca8dbdd5f941ba8214183957f1056f",
   "display_name": "Python 3.7.7 64-bit"
  }
 },
 "cells": [
  {
   "cell_type": "markdown",
   "metadata": {},
   "source": [
    "# 삽입 정렬 insertion sort\n",
    "어떠한 요소를 특정 위치에 삽입하는 알고리즘이다. \n"
   ]
  },
  {
   "cell_type": "code",
   "execution_count": 6,
   "metadata": {},
   "outputs": [],
   "source": [
    "def insertionsort(data):\n",
    "    # 턴의 횟수\n",
    "    for i in range(len(data)-1):\n",
    "        # 이동하는 인덱스 위치\n",
    "        # i+1 부터, 1까지 -1씩 줄어들면서 반복한다.\n",
    "        for a in range(i+1, 0, -1):  \n",
    "            if data[a] < data[a-1]:\n",
    "                data[a],data[a-1] = data[a-1],data[a]\n",
    "            else:\n",
    "                # 더이상 작은게 없다면 그냥 반복문을 끝내고 다음 인덱스로 넘어간다.\n",
    "                break\n",
    "    return data"
   ]
  },
  {
   "cell_type": "code",
   "execution_count": 8,
   "metadata": {},
   "outputs": [],
   "source": [
    "import random\n",
    "\n",
    "data_list = random.sample(range(100), 10)"
   ]
  },
  {
   "cell_type": "code",
   "execution_count": 9,
   "metadata": {},
   "outputs": [
    {
     "output_type": "execute_result",
     "data": {
      "text/plain": "[3, 6, 10, 18, 28, 59, 61, 85, 86, 99]"
     },
     "metadata": {},
     "execution_count": 9
    }
   ],
   "source": [
    "insertionsort(data_list)"
   ]
  },
  {
   "cell_type": "markdown",
   "metadata": {},
   "source": [
    " 이것 또한 복잡도는 O(n의 제곱)이다. 반복문이 두개 있기 때문이다. 완전정렬이라면, O(n)이 된다. 이건 거의 비슷함. "
   ]
  }
 ]
}