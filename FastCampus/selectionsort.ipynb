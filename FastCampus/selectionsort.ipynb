{
 "nbformat": 4,
 "nbformat_minor": 2,
 "metadata": {
  "language_info": {
   "name": "python",
   "codemirror_mode": {
    "name": "ipython",
    "version": 3
   },
   "version": "3.7.7-final"
  },
  "orig_nbformat": 2,
  "file_extension": ".py",
  "mimetype": "text/x-python",
  "name": "python",
  "npconvert_exporter": "python",
  "pygments_lexer": "ipython3",
  "version": 3,
  "kernelspec": {
   "name": "python37764bit91ca8dbdd5f941ba8214183957f1056f",
   "display_name": "Python 3.7.7 64-bit"
  }
 },
 "cells": [
  {
   "cell_type": "markdown",
   "metadata": {},
   "source": [
    "# 선택 정렬 "
   ]
  },
  {
   "cell_type": "markdown",
   "metadata": {},
   "source": [
    "## 주어진 데이터 중 최소값을 찾는 알고리즘 \n",
    "> 최소값을 찾은뒤, 맨 앞에 배치하고 그다음 최소값...을 반복하여 최종적으로 작은수부터 큰수까지 정리하는 알고리즘이다.\n"
   ]
  },
  {
   "cell_type": "code",
   "execution_count": 9,
   "metadata": {},
   "outputs": [],
   "source": [
    "def selectionsort(data):\n",
    "    for stand in range(len(data) -1):\n",
    "        lowest = stand\n",
    "        for index in range(stand +1, len(data)):\n",
    "            if data[stand] > data[index]:\n",
    "                lowest = index\n",
    "        data[lowest],data[stand] = data[stand],data[lowest]\n",
    "    return data"
   ]
  },
  {
   "cell_type": "code",
   "execution_count": 10,
   "metadata": {},
   "outputs": [],
   "source": [
    "import random\n",
    "\n",
    "data_list = random.sample(range(100),10)"
   ]
  },
  {
   "cell_type": "code",
   "execution_count": 11,
   "metadata": {},
   "outputs": [
    {
     "output_type": "execute_result",
     "data": {
      "text/plain": "[1, 43, 48, 2, 15, 38, 63, 51, 78, 80]"
     },
     "metadata": {},
     "execution_count": 11
    }
   ],
   "source": [
    "selectionsort(data_list)"
   ]
  },
  {
   "cell_type": "markdown",
   "metadata": {},
   "source": [
    "시간 복잡도 . \n",
    "반복문이 2개 이기 때문에 O(n제곱)"
   ]
  }
 ]
}